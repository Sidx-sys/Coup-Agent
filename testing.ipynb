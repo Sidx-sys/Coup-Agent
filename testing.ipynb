{
 "cells": [
  {
   "cell_type": "code",
   "execution_count": 18,
   "id": "initial_id",
   "metadata": {
    "collapsed": true,
    "ExecuteTime": {
     "end_time": "2024-07-03T08:22:23.384105Z",
     "start_time": "2024-07-03T08:22:23.377461Z"
    }
   },
   "outputs": [],
   "source": [
    "from langchain_openai import ChatOpenAI\n",
    "from dotenv import load_dotenv\n",
    "import os\n",
    "import json"
   ]
  },
  {
   "cell_type": "code",
   "execution_count": 19,
   "outputs": [
    {
     "data": {
      "text/plain": "True"
     },
     "execution_count": 19,
     "metadata": {},
     "output_type": "execute_result"
    }
   ],
   "source": [
    "load_dotenv()"
   ],
   "metadata": {
    "collapsed": false,
    "ExecuteTime": {
     "end_time": "2024-07-03T08:22:23.647157Z",
     "start_time": "2024-07-03T08:22:23.642148Z"
    }
   },
   "id": "dc3fdc8b9ea94640"
  },
  {
   "cell_type": "code",
   "execution_count": 20,
   "outputs": [],
   "source": [
    "llm = ChatOpenAI(model=\"gpt-4-turbo\", temperature=0.3, openai_api_key=os.getenv(\"OPENAI_API_KEY_2\"))"
   ],
   "metadata": {
    "collapsed": false,
    "ExecuteTime": {
     "end_time": "2024-07-03T08:22:24.089777Z",
     "start_time": "2024-07-03T08:22:24.039981Z"
    }
   },
   "id": "7f684ad1331803b4"
  },
  {
   "cell_type": "code",
   "execution_count": 21,
   "outputs": [],
   "source": [
    "with open(\"prompts/system_prompt.txt\") as f:\n",
    "    system_prompt = f.read()\n",
    "with open(\"prompts/play_turn.txt\") as f:\n",
    "    play_turn_prompt = f.read()\n",
    "with open(\"prompts/first_turn.txt\") as f:\n",
    "    first_turn = f.read()"
   ],
   "metadata": {
    "collapsed": false,
    "ExecuteTime": {
     "end_time": "2024-07-03T08:22:24.547020Z",
     "start_time": "2024-07-03T08:22:24.544416Z"
    }
   },
   "id": "e1507d3b3661b4ea"
  },
  {
   "cell_type": "code",
   "execution_count": 27,
   "outputs": [],
   "source": [
    "active_cards = f\"Card 1: Assassin, Card 2: Captain\"\n",
    "coins = 2"
   ],
   "metadata": {
    "collapsed": false,
    "ExecuteTime": {
     "end_time": "2024-07-03T08:23:43.921208Z",
     "start_time": "2024-07-03T08:23:43.918427Z"
    }
   },
   "id": "25a82e427b56219b"
  },
  {
   "cell_type": "code",
   "execution_count": 28,
   "outputs": [],
   "source": [
    "first_turn_prompt = first_turn.format(active_cards=active_cards, coins=coins)\n",
    "messages = [(\"system\", system_prompt), (\"human\", first_turn_prompt)]"
   ],
   "metadata": {
    "collapsed": false,
    "ExecuteTime": {
     "end_time": "2024-07-03T08:23:45.478278Z",
     "start_time": "2024-07-03T08:23:45.471585Z"
    }
   },
   "id": "51da3a97c6e67b61"
  },
  {
   "cell_type": "code",
   "execution_count": 29,
   "outputs": [],
   "source": [
    "agent_output = llm.invoke(messages)"
   ],
   "metadata": {
    "collapsed": false,
    "ExecuteTime": {
     "end_time": "2024-07-03T08:23:49.064468Z",
     "start_time": "2024-07-03T08:23:46.104768Z"
    }
   },
   "id": "710c405980ab07b1"
  },
  {
   "cell_type": "code",
   "execution_count": 30,
   "outputs": [
    {
     "name": "stdout",
     "output_type": "stream",
     "text": [
      "{'action': 'Income', 'target': None, 'intuition': \"Early in the game, it's beneficial to collect coins without drawing much attention. Taking Income is a safe and non-threatening move that helps build resources for future actions.\"}\n"
     ]
    }
   ],
   "source": [
    "print(json.loads(agent_output.content))"
   ],
   "metadata": {
    "collapsed": false,
    "ExecuteTime": {
     "end_time": "2024-07-03T08:23:54.565185Z",
     "start_time": "2024-07-03T08:23:54.563369Z"
    }
   },
   "id": "57d036eb48d54322"
  },
  {
   "cell_type": "code",
   "execution_count": null,
   "outputs": [],
   "source": [],
   "metadata": {
    "collapsed": false
   },
   "id": "4aca69b9cf188db"
  }
 ],
 "metadata": {
  "kernelspec": {
   "display_name": "Python 3",
   "language": "python",
   "name": "python3"
  },
  "language_info": {
   "codemirror_mode": {
    "name": "ipython",
    "version": 2
   },
   "file_extension": ".py",
   "mimetype": "text/x-python",
   "name": "python",
   "nbconvert_exporter": "python",
   "pygments_lexer": "ipython2",
   "version": "2.7.6"
  }
 },
 "nbformat": 4,
 "nbformat_minor": 5
}
